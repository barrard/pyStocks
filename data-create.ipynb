{
 "cells": [
  {
   "cell_type": "code",
   "execution_count": 20,
   "metadata": {},
   "outputs": [
    {
     "data": {
      "text/plain": [
       "'0.8.4'"
      ]
     },
     "execution_count": 20,
     "metadata": {},
     "output_type": "execute_result"
    }
   ],
   "source": [
    "import pandas as pd\n",
    "import matplotlib.pyplot as plt\n",
    "import seaborn as sns\n",
    "import numpy as np\n",
    "import pylab\n",
    "import math\n",
    "\n",
    "from scipy import stats\n",
    "import statsmodels\n",
    "import statsmodels.api as sm\n",
    "from statsmodels.stats import diagnostic as diag\n",
    "# from statsmodels.stats.outliers_infulence import variance_inflation_factor\n",
    "\n",
    "from sklearn.model_selection import train_test_split\n",
    "from sklearn.linear_model import LinearRegression\n",
    "from sklearn.metrics import mean_squared_error, r2_score, mean_absolute_error\n",
    "import sklearn\n",
    "%matplotlib inline\n",
    "from pymongo import MongoClient\n",
    "import tulipy as ti\n",
    "\n",
    "import symbols\n",
    "\n",
    "client = MongoClient()\n"
   ]
  },
  {
   "cell_type": "code",
   "execution_count": 669,
   "metadata": {},
   "outputs": [
    {
     "data": {
      "text/plain": [
       "521"
      ]
     },
     "execution_count": 669,
     "metadata": {},
     "output_type": "execute_result"
    }
   ],
   "source": [
    "db=client.stock_app\n",
    "symbols = [  \"TWLO\",\n",
    "  \"HYGH\",\n",
    "  \"TCOM\",\n",
    "  \"HLX\",\n",
    "  \"SHOO\",\n",
    "  \"HCA\",\n",
    "  \"NTLA\",\n",
    "  \"DNKN\",]\n",
    "def pad_left(x, n, pad = np.nan):\n",
    "    return np.pad(x, (n - x.size, 0), 'constant', constant_values = (pad,))\n",
    "def add_sma(ma, column, df):\n",
    "    df[f'sma{ma}']=pad_left(ti.sma(np.array(weekly_df[f'{column}']), ma), weekly_df[f'{column}'].size)\n",
    "\n",
    "def add_rsi(rsi, column, df):\n",
    "    df[f'rsi{rsi}']=pad_left(ti.rsi(np.array(weekly_df[f'{column}']), rsi), weekly_df[f'{column}'].size)\n",
    "\n",
    "def rollingApply(df, window, col,name, condFn, args=()):\n",
    "    df['rolling_{window}_{name}']=pd.Series(weekly_df[name]).rolling(window).apply(condFn, args=args)\n",
    "\n",
    "\n",
    "def add_ad(ad, df):\n",
    "    ohlcv = []\n",
    "    for index, row in df.iterrows():\n",
    "        ohlcv.append({\n",
    "            'low':row['low'],\n",
    "            'close':row['close'],\n",
    "            'high':row['high'],\n",
    "            'volume':row['volume'],\n",
    "        })\n",
    "    df[f'ad{ad}'] = pad_left(\n",
    "        ti.ad((df.high.values), \n",
    "                (df.close.values), \n",
    "               (df.close.values), \n",
    "               (df.close.values), \n",
    "#                pd.array(df.volume, dtype='int32')\n",
    "             )\n",
    "        , df[f'{column}'].size)\n",
    "\n",
    "# //fetch data\n",
    "FBdata = db.stockdatas.find({'symbol':'SPY'})\n",
    "\n",
    "FBdata=list(FBdata)\n",
    "df = pd.DataFrame(FBdata)\n",
    "        \n",
    "\n",
    "def aboveBelow(num, aboveBelow, val):\n",
    "    if aboveBelow == 'below':\n",
    "        if num < val : return True\n",
    "        else : return false\n",
    "            \n",
    "weeklyFB = list(df.weekly)[0]\n",
    "weekly_df = pd.DataFrame(weeklyFB)\n",
    "weekly_df.index = weekly_df.datetime\n",
    "weekly_df.drop('datetime', axis=1, inplace=True)\n",
    "add_sma(2, 'close', weekly_df)\n",
    "add_sma(20, 'close', weekly_df)\n",
    "add_sma(50, 'close', weekly_df)\n",
    "add_sma(200, 'close', weekly_df)\n",
    "add_rsi(2, 'close', weekly_df)\n",
    "add_rsi(3, 'close', weekly_df)\n",
    "add_rsi(4, 'close', weekly_df)\n",
    "add_rsi(14, 'close', weekly_df)\n",
    "# add_ad(4, weekly_df)\n",
    "\n",
    "\n",
    "# weekly_df['ma20']=pad_left(ti.sma(np.array(weekly_df['open']), 20), weekly_df.open.size)\n",
    "# weekly_df\n",
    "# pd.Series(weekly_df['close']).rolling(20).apply(aboveBelow, args=('above', 30))\n",
    "# def aboveBelow(df, col, windowSize, val):\n",
    "#     for window in pd.Series(weekly_df['close']).rolling(20):\n",
    "#         print(window)\n",
    "#         val = 30\n",
    "#         if len(window) < 20 :return None\n",
    "#         count_above = 0\n",
    "#         count_below = 0\n",
    "#         for num in window:\n",
    "#             if num > val : count_above = count_above+1\n",
    "#             if num < val : count_below = count_below+1\n",
    "\n",
    "#         return (count_above, count_below)\n",
    "    \n",
    "\n",
    "# for window in pd.Series(weekly_df['close']).rolling(20):\n",
    "#     print(window)\n",
    "#     val = 30\n",
    "#     if len(window) < 20 :return None\n",
    "#     count_above = 0\n",
    "#     count_below = 0\n",
    "#     for num in window:\n",
    "#         if num > val : count_above = count_above+1\n",
    "#         if num < val : count_below = count_below+1\n",
    "\n",
    "#     return (count_above, count_below)\n",
    "len(df.daily[0])\n",
    "len(df.weekly[0])\n",
    "\n",
    "week  = pd.DataFrame(list(df.weekly)[0])\n",
    "week['datetime']= pd.to_datetime(week['datetime'], unit = 'ms', errors='coerce')\n",
    "week.head()\n",
    "week.shape\n",
    "\n",
    "# pd.array(weekly_df.volume)\n",
    "# len(weekly_df.close.values)\n",
    "v = ti.ad((week.high.values), (week.close.values), (week.close.values), (week.close.values))\n",
    "\n",
    "week[f'ad'] = ti.ad(\n",
    "        (week.high.values),\n",
    "        (week.low.values),\n",
    "        (week.close.values),\n",
    "        (week.volume.values))\n",
    "week.shape[0]\n",
    "# ti.macd(np.array(week.close), 3, 6, 9)"
   ]
  },
  {
   "cell_type": "code",
   "execution_count": 667,
   "metadata": {},
   "outputs": [
    {
     "name": "stdout",
     "output_type": "stream",
     "text": [
      "indicator\n",
      "['real']\n",
      "['macd', 'macd_signal', 'macd_histogram']\n"
     ]
    }
   ],
   "source": [
    "print(ti.ad.type)\n",
    "print(ti.macd.inputs)\n",
    "print(ti.macd.outputs)\n",
    "\n",
    "\n"
   ]
  },
  {
   "cell_type": "code",
   "execution_count": 700,
   "metadata": {},
   "outputs": [
    {
     "data": {
      "text/html": [
       "<div>\n",
       "<style scoped>\n",
       "    .dataframe tbody tr th:only-of-type {\n",
       "        vertical-align: middle;\n",
       "    }\n",
       "\n",
       "    .dataframe tbody tr th {\n",
       "        vertical-align: top;\n",
       "    }\n",
       "\n",
       "    .dataframe thead th {\n",
       "        text-align: right;\n",
       "    }\n",
       "</style>\n",
       "<table border=\"1\" class=\"dataframe\">\n",
       "  <thead>\n",
       "    <tr style=\"text-align: right;\">\n",
       "      <th></th>\n",
       "      <th>open</th>\n",
       "      <th>high</th>\n",
       "      <th>low</th>\n",
       "      <th>close</th>\n",
       "      <th>volume</th>\n",
       "      <th>datetime</th>\n",
       "      <th>ad</th>\n",
       "    </tr>\n",
       "  </thead>\n",
       "  <tbody>\n",
       "    <tr>\n",
       "      <th>1</th>\n",
       "      <td>124.64</td>\n",
       "      <td>125.82</td>\n",
       "      <td>123.98</td>\n",
       "      <td>125.60</td>\n",
       "      <td>363008262.0</td>\n",
       "      <td>2010-12-20 06:00:00</td>\n",
       "      <td>7.901388e+07</td>\n",
       "    </tr>\n",
       "    <tr>\n",
       "      <th>2</th>\n",
       "      <td>125.13</td>\n",
       "      <td>126.20</td>\n",
       "      <td>125.04</td>\n",
       "      <td>125.75</td>\n",
       "      <td>339355137.0</td>\n",
       "      <td>2010-12-27 06:00:00</td>\n",
       "      <td>1.550762e+08</td>\n",
       "    </tr>\n",
       "  </tbody>\n",
       "</table>\n",
       "</div>"
      ],
      "text/plain": [
       "     open    high     low   close       volume            datetime  \\\n",
       "1  124.64  125.82  123.98  125.60  363008262.0 2010-12-20 06:00:00   \n",
       "2  125.13  126.20  125.04  125.75  339355137.0 2010-12-27 06:00:00   \n",
       "\n",
       "             ad  \n",
       "1  7.901388e+07  \n",
       "2  1.550762e+08  "
      ]
     },
     "execution_count": 700,
     "metadata": {},
     "output_type": "execute_result"
    }
   ],
   "source": [
    "week[1:3]"
   ]
  },
  {
   "cell_type": "code",
   "execution_count": 683,
   "metadata": {},
   "outputs": [
    {
     "name": "stdout",
     "output_type": "stream",
     "text": [
      "503\n",
      "521\n"
     ]
    },
    {
     "data": {
      "text/plain": [
       "521"
      ]
     },
     "execution_count": 683,
     "metadata": {},
     "output_type": "execute_result"
    }
   ],
   "source": [
    "\n",
    "def add_adx(df):\n",
    "    dx = ti.adx(np.array(df.high),\n",
    "    np.array(df.low),\n",
    "    np.array(df.close), 10)\n",
    "    print(len(dx))\n",
    "    dx = pad_left(dx, len(np.array(df.high)))\n",
    "    return dx\n",
    "\n",
    "print(len(add_adx(week)))\n",
    " \n",
    "            \n",
    "\n",
    "len(ti.obv(np.array(week.close),np.array(week.volume),))\n",
    "    "
   ]
  },
  {
   "cell_type": "code",
   "execution_count": null,
   "metadata": {},
   "outputs": [],
   "source": []
  },
  {
   "cell_type": "code",
   "execution_count": null,
   "metadata": {},
   "outputs": [],
   "source": []
  },
  {
   "cell_type": "code",
   "execution_count": null,
   "metadata": {},
   "outputs": [],
   "source": []
  },
  {
   "cell_type": "code",
   "execution_count": null,
   "metadata": {},
   "outputs": [],
   "source": []
  },
  {
   "cell_type": "code",
   "execution_count": null,
   "metadata": {},
   "outputs": [],
   "source": [
    "\n",
    "\n"
   ]
  },
  {
   "cell_type": "code",
   "execution_count": null,
   "metadata": {},
   "outputs": [],
   "source": []
  },
  {
   "cell_type": "code",
   "execution_count": null,
   "metadata": {},
   "outputs": [],
   "source": []
  },
  {
   "cell_type": "code",
   "execution_count": null,
   "metadata": {},
   "outputs": [],
   "source": []
  },
  {
   "cell_type": "code",
   "execution_count": null,
   "metadata": {},
   "outputs": [],
   "source": []
  },
  {
   "cell_type": "code",
   "execution_count": null,
   "metadata": {},
   "outputs": [],
   "source": []
  },
  {
   "cell_type": "code",
   "execution_count": null,
   "metadata": {},
   "outputs": [],
   "source": []
  },
  {
   "cell_type": "code",
   "execution_count": null,
   "metadata": {},
   "outputs": [],
   "source": []
  },
  {
   "cell_type": "code",
   "execution_count": null,
   "metadata": {},
   "outputs": [],
   "source": []
  },
  {
   "cell_type": "code",
   "execution_count": null,
   "metadata": {},
   "outputs": [],
   "source": [
    "\n",
    " "
   ]
  },
  {
   "cell_type": "code",
   "execution_count": null,
   "metadata": {},
   "outputs": [],
   "source": []
  },
  {
   "cell_type": "code",
   "execution_count": null,
   "metadata": {},
   "outputs": [],
   "source": []
  },
  {
   "cell_type": "code",
   "execution_count": null,
   "metadata": {},
   "outputs": [],
   "source": []
  },
  {
   "cell_type": "code",
   "execution_count": null,
   "metadata": {},
   "outputs": [],
   "source": []
  },
  {
   "cell_type": "code",
   "execution_count": null,
   "metadata": {},
   "outputs": [],
   "source": []
  },
  {
   "cell_type": "code",
   "execution_count": null,
   "metadata": {},
   "outputs": [],
   "source": []
  },
  {
   "cell_type": "code",
   "execution_count": null,
   "metadata": {},
   "outputs": [],
   "source": []
  },
  {
   "cell_type": "code",
   "execution_count": null,
   "metadata": {},
   "outputs": [],
   "source": []
  },
  {
   "cell_type": "code",
   "execution_count": null,
   "metadata": {},
   "outputs": [],
   "source": []
  },
  {
   "cell_type": "code",
   "execution_count": null,
   "metadata": {},
   "outputs": [],
   "source": []
  },
  {
   "cell_type": "code",
   "execution_count": null,
   "metadata": {},
   "outputs": [],
   "source": []
  },
  {
   "cell_type": "code",
   "execution_count": null,
   "metadata": {},
   "outputs": [],
   "source": []
  },
  {
   "cell_type": "code",
   "execution_count": null,
   "metadata": {},
   "outputs": [],
   "source": []
  },
  {
   "cell_type": "code",
   "execution_count": null,
   "metadata": {},
   "outputs": [],
   "source": []
  },
  {
   "cell_type": "code",
   "execution_count": null,
   "metadata": {},
   "outputs": [],
   "source": []
  },
  {
   "cell_type": "code",
   "execution_count": null,
   "metadata": {},
   "outputs": [],
   "source": []
  },
  {
   "cell_type": "code",
   "execution_count": null,
   "metadata": {},
   "outputs": [],
   "source": []
  },
  {
   "cell_type": "code",
   "execution_count": null,
   "metadata": {},
   "outputs": [],
   "source": []
  },
  {
   "cell_type": "code",
   "execution_count": null,
   "metadata": {},
   "outputs": [],
   "source": []
  },
  {
   "cell_type": "code",
   "execution_count": null,
   "metadata": {},
   "outputs": [],
   "source": []
  },
  {
   "cell_type": "code",
   "execution_count": null,
   "metadata": {},
   "outputs": [],
   "source": []
  },
  {
   "cell_type": "code",
   "execution_count": null,
   "metadata": {},
   "outputs": [],
   "source": []
  }
 ],
 "metadata": {
  "kernelspec": {
   "display_name": "Python 3",
   "language": "python",
   "name": "python3"
  },
  "language_info": {
   "codemirror_mode": {
    "name": "ipython",
    "version": 3
   },
   "file_extension": ".py",
   "mimetype": "text/x-python",
   "name": "python",
   "nbconvert_exporter": "python",
   "pygments_lexer": "ipython3",
   "version": "3.6.9"
  }
 },
 "nbformat": 4,
 "nbformat_minor": 4
}
